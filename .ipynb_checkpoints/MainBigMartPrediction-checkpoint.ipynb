{
 "cells": [
  {
   "cell_type": "markdown",
   "metadata": {
    "id": "4cbgwZWWfWpp"
   },
   "source": [
    "## Stores Sales Prediction"
   ]
  },
  {
   "cell_type": "code",
   "execution_count": 2,
   "metadata": {
    "executionInfo": {
     "elapsed": 726,
     "status": "ok",
     "timestamp": 1636300486650,
     "user": {
      "displayName": "Kamalaksha Nc",
      "photoUrl": "https://lh3.googleusercontent.com/a-/AOh14Gjxg6EmzK8ORLJZD8DHsJ-32YRw9tE3tAvDYH0K=s64",
      "userId": "05305898749409546367"
     },
     "user_tz": -330
    },
    "id": "X_33fvolIHei"
   },
   "outputs": [],
   "source": [
    "import pandas as pd\n",
    "import numpy as np\n",
    "import matplotlib.pyplot as plt\n",
    "import seaborn as sns"
   ]
  },
  {
   "cell_type": "code",
   "execution_count": 3,
   "metadata": {
    "executionInfo": {
     "elapsed": 56,
     "status": "ok",
     "timestamp": 1636300486653,
     "user": {
      "displayName": "Kamalaksha Nc",
      "photoUrl": "https://lh3.googleusercontent.com/a-/AOh14Gjxg6EmzK8ORLJZD8DHsJ-32YRw9tE3tAvDYH0K=s64",
      "userId": "05305898749409546367"
     },
     "user_tz": -330
    },
    "id": "tL9oo_FkIHg_"
   },
   "outputs": [],
   "source": [
    "train=pd.read_csv('BigMartTrain.csv')"
   ]
  },
  {
   "cell_type": "markdown",
   "metadata": {
    "id": "P1l51A5wI_mf"
   },
   "source": [
    "1. Feature Engineering"
   ]
  },
  {
   "cell_type": "markdown",
   "metadata": {
    "id": "enQG6CA0JEH1"
   },
   "source": [
    "## 1. Exploratory DataAnalysis\n"
   ]
  },
  {
   "cell_type": "code",
   "execution_count": 4,
   "metadata": {
    "colab": {
     "base_uri": "https://localhost:8080/",
     "height": 313
    },
    "executionInfo": {
     "elapsed": 57,
     "status": "ok",
     "timestamp": 1636300486656,
     "user": {
      "displayName": "Kamalaksha Nc",
      "photoUrl": "https://lh3.googleusercontent.com/a-/AOh14Gjxg6EmzK8ORLJZD8DHsJ-32YRw9tE3tAvDYH0K=s64",
      "userId": "05305898749409546367"
     },
     "user_tz": -330
    },
    "id": "QeD1zoWnQtep",
    "outputId": "f6a6fd27-a36e-4c7b-fbbd-400eb75c5235"
   },
   "outputs": [
    {
     "data": {
      "text/html": [
       "<div>\n",
       "<style scoped>\n",
       "    .dataframe tbody tr th:only-of-type {\n",
       "        vertical-align: middle;\n",
       "    }\n",
       "\n",
       "    .dataframe tbody tr th {\n",
       "        vertical-align: top;\n",
       "    }\n",
       "\n",
       "    .dataframe thead th {\n",
       "        text-align: right;\n",
       "    }\n",
       "</style>\n",
       "<table border=\"1\" class=\"dataframe\">\n",
       "  <thead>\n",
       "    <tr style=\"text-align: right;\">\n",
       "      <th></th>\n",
       "      <th>Item_Identifier</th>\n",
       "      <th>Item_Weight</th>\n",
       "      <th>Item_Fat_Content</th>\n",
       "      <th>Item_Visibility</th>\n",
       "      <th>Item_Type</th>\n",
       "      <th>Item_MRP</th>\n",
       "      <th>Outlet_Identifier</th>\n",
       "      <th>Outlet_Establishment_Year</th>\n",
       "      <th>Outlet_Size</th>\n",
       "      <th>Outlet_Location_Type</th>\n",
       "      <th>Outlet_Type</th>\n",
       "      <th>Item_Outlet_Sales</th>\n",
       "    </tr>\n",
       "  </thead>\n",
       "  <tbody>\n",
       "    <tr>\n",
       "      <th>0</th>\n",
       "      <td>FDA15</td>\n",
       "      <td>9.30</td>\n",
       "      <td>Low Fat</td>\n",
       "      <td>0.016047</td>\n",
       "      <td>Dairy</td>\n",
       "      <td>249.8092</td>\n",
       "      <td>OUT049</td>\n",
       "      <td>1999</td>\n",
       "      <td>Medium</td>\n",
       "      <td>Tier 1</td>\n",
       "      <td>Supermarket Type1</td>\n",
       "      <td>3735.1380</td>\n",
       "    </tr>\n",
       "    <tr>\n",
       "      <th>1</th>\n",
       "      <td>DRC01</td>\n",
       "      <td>5.92</td>\n",
       "      <td>Regular</td>\n",
       "      <td>0.019278</td>\n",
       "      <td>Soft Drinks</td>\n",
       "      <td>48.2692</td>\n",
       "      <td>OUT018</td>\n",
       "      <td>2009</td>\n",
       "      <td>Medium</td>\n",
       "      <td>Tier 3</td>\n",
       "      <td>Supermarket Type2</td>\n",
       "      <td>443.4228</td>\n",
       "    </tr>\n",
       "    <tr>\n",
       "      <th>2</th>\n",
       "      <td>FDN15</td>\n",
       "      <td>17.50</td>\n",
       "      <td>Low Fat</td>\n",
       "      <td>0.016760</td>\n",
       "      <td>Meat</td>\n",
       "      <td>141.6180</td>\n",
       "      <td>OUT049</td>\n",
       "      <td>1999</td>\n",
       "      <td>Medium</td>\n",
       "      <td>Tier 1</td>\n",
       "      <td>Supermarket Type1</td>\n",
       "      <td>2097.2700</td>\n",
       "    </tr>\n",
       "    <tr>\n",
       "      <th>3</th>\n",
       "      <td>FDX07</td>\n",
       "      <td>19.20</td>\n",
       "      <td>Regular</td>\n",
       "      <td>0.000000</td>\n",
       "      <td>Fruits and Vegetables</td>\n",
       "      <td>182.0950</td>\n",
       "      <td>OUT010</td>\n",
       "      <td>1998</td>\n",
       "      <td>NaN</td>\n",
       "      <td>Tier 3</td>\n",
       "      <td>Grocery Store</td>\n",
       "      <td>732.3800</td>\n",
       "    </tr>\n",
       "    <tr>\n",
       "      <th>4</th>\n",
       "      <td>NCD19</td>\n",
       "      <td>8.93</td>\n",
       "      <td>Low Fat</td>\n",
       "      <td>0.000000</td>\n",
       "      <td>Household</td>\n",
       "      <td>53.8614</td>\n",
       "      <td>OUT013</td>\n",
       "      <td>1987</td>\n",
       "      <td>High</td>\n",
       "      <td>Tier 3</td>\n",
       "      <td>Supermarket Type1</td>\n",
       "      <td>994.7052</td>\n",
       "    </tr>\n",
       "  </tbody>\n",
       "</table>\n",
       "</div>"
      ],
      "text/plain": [
       "  Item_Identifier  Item_Weight  ...        Outlet_Type  Item_Outlet_Sales\n",
       "0           FDA15         9.30  ...  Supermarket Type1          3735.1380\n",
       "1           DRC01         5.92  ...  Supermarket Type2           443.4228\n",
       "2           FDN15        17.50  ...  Supermarket Type1          2097.2700\n",
       "3           FDX07        19.20  ...      Grocery Store           732.3800\n",
       "4           NCD19         8.93  ...  Supermarket Type1           994.7052\n",
       "\n",
       "[5 rows x 12 columns]"
      ]
     },
     "execution_count": 4,
     "metadata": {},
     "output_type": "execute_result"
    }
   ],
   "source": [
    "train.head()"
   ]
  },
  {
   "cell_type": "code",
   "execution_count": 5,
   "metadata": {
    "colab": {
     "base_uri": "https://localhost:8080/"
    },
    "executionInfo": {
     "elapsed": 56,
     "status": "ok",
     "timestamp": 1636300486659,
     "user": {
      "displayName": "Kamalaksha Nc",
      "photoUrl": "https://lh3.googleusercontent.com/a-/AOh14Gjxg6EmzK8ORLJZD8DHsJ-32YRw9tE3tAvDYH0K=s64",
      "userId": "05305898749409546367"
     },
     "user_tz": -330
    },
    "id": "ZHK1R0jPIHl6",
    "outputId": "7057d372-1d1e-4c53-e8fc-0d7553a45b8e"
   },
   "outputs": [
    {
     "data": {
      "text/plain": [
       "(8523, 12)"
      ]
     },
     "execution_count": 5,
     "metadata": {},
     "output_type": "execute_result"
    }
   ],
   "source": [
    "train.shape"
   ]
  },
  {
   "cell_type": "code",
   "execution_count": 6,
   "metadata": {
    "colab": {
     "base_uri": "https://localhost:8080/",
     "height": 300
    },
    "executionInfo": {
     "elapsed": 47,
     "status": "ok",
     "timestamp": 1636300486661,
     "user": {
      "displayName": "Kamalaksha Nc",
      "photoUrl": "https://lh3.googleusercontent.com/a-/AOh14Gjxg6EmzK8ORLJZD8DHsJ-32YRw9tE3tAvDYH0K=s64",
      "userId": "05305898749409546367"
     },
     "user_tz": -330
    },
    "id": "brFheVKaIHoa",
    "outputId": "e243e231-dfdc-4fa5-80d4-08db6fd1901a"
   },
   "outputs": [
    {
     "data": {
      "text/html": [
       "<div>\n",
       "<style scoped>\n",
       "    .dataframe tbody tr th:only-of-type {\n",
       "        vertical-align: middle;\n",
       "    }\n",
       "\n",
       "    .dataframe tbody tr th {\n",
       "        vertical-align: top;\n",
       "    }\n",
       "\n",
       "    .dataframe thead th {\n",
       "        text-align: right;\n",
       "    }\n",
       "</style>\n",
       "<table border=\"1\" class=\"dataframe\">\n",
       "  <thead>\n",
       "    <tr style=\"text-align: right;\">\n",
       "      <th></th>\n",
       "      <th>Item_Weight</th>\n",
       "      <th>Item_Visibility</th>\n",
       "      <th>Item_MRP</th>\n",
       "      <th>Outlet_Establishment_Year</th>\n",
       "      <th>Item_Outlet_Sales</th>\n",
       "    </tr>\n",
       "  </thead>\n",
       "  <tbody>\n",
       "    <tr>\n",
       "      <th>count</th>\n",
       "      <td>7060.000000</td>\n",
       "      <td>8523.000000</td>\n",
       "      <td>8523.000000</td>\n",
       "      <td>8523.000000</td>\n",
       "      <td>8523.000000</td>\n",
       "    </tr>\n",
       "    <tr>\n",
       "      <th>mean</th>\n",
       "      <td>12.857645</td>\n",
       "      <td>0.066132</td>\n",
       "      <td>140.992782</td>\n",
       "      <td>1997.831867</td>\n",
       "      <td>2181.288914</td>\n",
       "    </tr>\n",
       "    <tr>\n",
       "      <th>std</th>\n",
       "      <td>4.643456</td>\n",
       "      <td>0.051598</td>\n",
       "      <td>62.275067</td>\n",
       "      <td>8.371760</td>\n",
       "      <td>1706.499616</td>\n",
       "    </tr>\n",
       "    <tr>\n",
       "      <th>min</th>\n",
       "      <td>4.555000</td>\n",
       "      <td>0.000000</td>\n",
       "      <td>31.290000</td>\n",
       "      <td>1985.000000</td>\n",
       "      <td>33.290000</td>\n",
       "    </tr>\n",
       "    <tr>\n",
       "      <th>25%</th>\n",
       "      <td>8.773750</td>\n",
       "      <td>0.026989</td>\n",
       "      <td>93.826500</td>\n",
       "      <td>1987.000000</td>\n",
       "      <td>834.247400</td>\n",
       "    </tr>\n",
       "    <tr>\n",
       "      <th>50%</th>\n",
       "      <td>12.600000</td>\n",
       "      <td>0.053931</td>\n",
       "      <td>143.012800</td>\n",
       "      <td>1999.000000</td>\n",
       "      <td>1794.331000</td>\n",
       "    </tr>\n",
       "    <tr>\n",
       "      <th>75%</th>\n",
       "      <td>16.850000</td>\n",
       "      <td>0.094585</td>\n",
       "      <td>185.643700</td>\n",
       "      <td>2004.000000</td>\n",
       "      <td>3101.296400</td>\n",
       "    </tr>\n",
       "    <tr>\n",
       "      <th>max</th>\n",
       "      <td>21.350000</td>\n",
       "      <td>0.328391</td>\n",
       "      <td>266.888400</td>\n",
       "      <td>2009.000000</td>\n",
       "      <td>13086.964800</td>\n",
       "    </tr>\n",
       "  </tbody>\n",
       "</table>\n",
       "</div>"
      ],
      "text/plain": [
       "       Item_Weight  ...  Item_Outlet_Sales\n",
       "count  7060.000000  ...        8523.000000\n",
       "mean     12.857645  ...        2181.288914\n",
       "std       4.643456  ...        1706.499616\n",
       "min       4.555000  ...          33.290000\n",
       "25%       8.773750  ...         834.247400\n",
       "50%      12.600000  ...        1794.331000\n",
       "75%      16.850000  ...        3101.296400\n",
       "max      21.350000  ...       13086.964800\n",
       "\n",
       "[8 rows x 5 columns]"
      ]
     },
     "execution_count": 6,
     "metadata": {},
     "output_type": "execute_result"
    }
   ],
   "source": [
    "train.describe()"
   ]
  },
  {
   "cell_type": "code",
   "execution_count": 7,
   "metadata": {
    "colab": {
     "base_uri": "https://localhost:8080/"
    },
    "executionInfo": {
     "elapsed": 698,
     "status": "ok",
     "timestamp": 1636300487316,
     "user": {
      "displayName": "Kamalaksha Nc",
      "photoUrl": "https://lh3.googleusercontent.com/a-/AOh14Gjxg6EmzK8ORLJZD8DHsJ-32YRw9tE3tAvDYH0K=s64",
      "userId": "05305898749409546367"
     },
     "user_tz": -330
    },
    "id": "4AdUZ7KyIHqr",
    "outputId": "6768bf1b-b38b-4bb7-ba97-92746748439a"
   },
   "outputs": [
    {
     "data": {
      "text/plain": [
       "Item_Identifier                 0\n",
       "Item_Weight                  1463\n",
       "Item_Fat_Content                0\n",
       "Item_Visibility                 0\n",
       "Item_Type                       0\n",
       "Item_MRP                        0\n",
       "Outlet_Identifier               0\n",
       "Outlet_Establishment_Year       0\n",
       "Outlet_Size                  2410\n",
       "Outlet_Location_Type            0\n",
       "Outlet_Type                     0\n",
       "Item_Outlet_Sales               0\n",
       "dtype: int64"
      ]
     },
     "execution_count": 7,
     "metadata": {},
     "output_type": "execute_result"
    }
   ],
   "source": [
    "#checking for missing data\n",
    "train.isnull().sum()"
   ]
  },
  {
   "cell_type": "code",
   "execution_count": 8,
   "metadata": {
    "colab": {
     "base_uri": "https://localhost:8080/"
    },
    "executionInfo": {
     "elapsed": 59,
     "status": "ok",
     "timestamp": 1636300487319,
     "user": {
      "displayName": "Kamalaksha Nc",
      "photoUrl": "https://lh3.googleusercontent.com/a-/AOh14Gjxg6EmzK8ORLJZD8DHsJ-32YRw9tE3tAvDYH0K=s64",
      "userId": "05305898749409546367"
     },
     "user_tz": -330
    },
    "id": "4m5o9fZnNea3",
    "outputId": "711392f3-2ad6-4c00-f1c1-82233fd3f104"
   },
   "outputs": [
    {
     "data": {
      "text/plain": [
       "Item_Identifier               object\n",
       "Item_Weight                  float64\n",
       "Item_Fat_Content              object\n",
       "Item_Visibility              float64\n",
       "Item_Type                     object\n",
       "Item_MRP                     float64\n",
       "Outlet_Identifier             object\n",
       "Outlet_Establishment_Year      int64\n",
       "Outlet_Size                   object\n",
       "Outlet_Location_Type          object\n",
       "Outlet_Type                   object\n",
       "Item_Outlet_Sales            float64\n",
       "dtype: object"
      ]
     },
     "execution_count": 8,
     "metadata": {},
     "output_type": "execute_result"
    }
   ],
   "source": [
    "train.dtypes"
   ]
  },
  {
   "cell_type": "code",
   "execution_count": 9,
   "metadata": {
    "colab": {
     "base_uri": "https://localhost:8080/"
    },
    "executionInfo": {
     "elapsed": 42,
     "status": "ok",
     "timestamp": 1636300487320,
     "user": {
      "displayName": "Kamalaksha Nc",
      "photoUrl": "https://lh3.googleusercontent.com/a-/AOh14Gjxg6EmzK8ORLJZD8DHsJ-32YRw9tE3tAvDYH0K=s64",
      "userId": "05305898749409546367"
     },
     "user_tz": -330
    },
    "id": "bzw36-mCNeKl",
    "outputId": "2410393f-a089-435b-a24d-ee82f2c96645"
   },
   "outputs": [
    {
     "data": {
      "text/plain": [
       "Item_Weight                  float64\n",
       "Item_Visibility              float64\n",
       "Item_MRP                     float64\n",
       "Outlet_Establishment_Year      int64\n",
       "Item_Outlet_Sales            float64\n",
       "dtype: object"
      ]
     },
     "execution_count": 9,
     "metadata": {},
     "output_type": "execute_result"
    }
   ],
   "source": [
    "numeric_col = train.dtypes[(train.dtypes == 'int64') | (train.dtypes == 'float64')]\n",
    "numeric_col"
   ]
  },
  {
   "cell_type": "markdown",
   "metadata": {
    "id": "aHiTZGfgQUDY"
   },
   "source": [
    "## 2. Handling missing data"
   ]
  },
  {
   "cell_type": "code",
   "execution_count": 10,
   "metadata": {
    "colab": {
     "base_uri": "https://localhost:8080/"
    },
    "executionInfo": {
     "elapsed": 34,
     "status": "ok",
     "timestamp": 1636300487322,
     "user": {
      "displayName": "Kamalaksha Nc",
      "photoUrl": "https://lh3.googleusercontent.com/a-/AOh14Gjxg6EmzK8ORLJZD8DHsJ-32YRw9tE3tAvDYH0K=s64",
      "userId": "05305898749409546367"
     },
     "user_tz": -330
    },
    "id": "pafL7Li0jyXW",
    "outputId": "ec904399-9b87-4f0b-fdaa-31b12b973ae5"
   },
   "outputs": [
    {
     "data": {
      "text/plain": [
       "Item_Identifier                 0\n",
       "Item_Weight                  1463\n",
       "Item_Fat_Content                0\n",
       "Item_Visibility                 0\n",
       "Item_Type                       0\n",
       "Item_MRP                        0\n",
       "Outlet_Identifier               0\n",
       "Outlet_Establishment_Year       0\n",
       "Outlet_Size                  2410\n",
       "Outlet_Location_Type            0\n",
       "Outlet_Type                     0\n",
       "Item_Outlet_Sales               0\n",
       "dtype: int64"
      ]
     },
     "execution_count": 10,
     "metadata": {},
     "output_type": "execute_result"
    }
   ],
   "source": [
    "train.isnull().sum()"
   ]
  },
  {
   "cell_type": "code",
   "execution_count": 11,
   "metadata": {
    "colab": {
     "base_uri": "https://localhost:8080/",
     "height": 335
    },
    "executionInfo": {
     "elapsed": 821,
     "status": "ok",
     "timestamp": 1636300488119,
     "user": {
      "displayName": "Kamalaksha Nc",
      "photoUrl": "https://lh3.googleusercontent.com/a-/AOh14Gjxg6EmzK8ORLJZD8DHsJ-32YRw9tE3tAvDYH0K=s64",
      "userId": "05305898749409546367"
     },
     "user_tz": -330
    },
    "id": "-8lptP0yQhDJ",
    "outputId": "ad6b7e4e-a045-45fc-d071-0e7647cabf98"
   },
   "outputs": [
    {
     "name": "stderr",
     "output_type": "stream",
     "text": [
      "/usr/local/lib/python3.7/dist-packages/seaborn/distributions.py:2619: FutureWarning: `distplot` is a deprecated function and will be removed in a future version. Please adapt your code to use either `displot` (a figure-level function with similar flexibility) or `histplot` (an axes-level function for histograms).\n",
      "  warnings.warn(msg, FutureWarning)\n"
     ]
    },
    {
     "data": {
      "image/png": "[encoded data removed]",
      "text/plain": [
       "<Figure size 432x288 with 1 Axes>"
      ]
     },
     "metadata": {
      "needs_background": "light"
     },
     "output_type": "display_data"
    }
   ],
   "source": [
    "#for mean imputation checking wheather Item_Weight feature is normaly distrubuted or not\n",
    "sns.distplot(train['Item_Weight'])\n",
    "plt.show()"
   ]
  },
  {
   "cell_type": "code",
   "execution_count": 12,
   "metadata": {
    "executionInfo": {
     "elapsed": 81,
     "status": "ok",
     "timestamp": 1636300488126,
     "user": {
      "displayName": "Kamalaksha Nc",
      "photoUrl": "https://lh3.googleusercontent.com/a-/AOh14Gjxg6EmzK8ORLJZD8DHsJ-32YRw9tE3tAvDYH0K=s64",
      "userId": "05305898749409546367"
     },
     "user_tz": -330
    },
    "id": "FFN8RO_UZQKN"
   },
   "outputs": [],
   "source": [
    "#Median Imputaion for Item_Weight feature\n",
    "train['Item_Weight'].fillna(train['Item_Weight'].mean(),inplace=True)"
   ]
  },
  {
   "cell_type": "code",
   "execution_count": 13,
   "metadata": {
    "executionInfo": {
     "elapsed": 79,
     "status": "ok",
     "timestamp": 1636300488128,
     "user": {
      "displayName": "Kamalaksha Nc",
      "photoUrl": "https://lh3.googleusercontent.com/a-/AOh14Gjxg6EmzK8ORLJZD8DHsJ-32YRw9tE3tAvDYH0K=s64",
      "userId": "05305898749409546367"
     },
     "user_tz": -330
    },
    "id": "7NfWJzAOcEDO"
   },
   "outputs": [],
   "source": [
    "#Random sample Imputation for Outlet_size feature\n",
    "train['Random_Outlet_Size'] = train['Outlet_Size']\n",
    "random_sample = train['Outlet_Size'].dropna().sample(train['Outlet_Size'].isnull().sum(),random_state=0)\n",
    "random_sample.index =  train[train['Random_Outlet_Size'].isnull()].index\n",
    "train.loc[train['Outlet_Size'].isnull(),'Random_Outlet_Size'] = random_sample\n"
   ]
  },
  {
   "cell_type": "code",
   "execution_count": 14,
   "metadata": {
    "executionInfo": {
     "elapsed": 79,
     "status": "ok",
     "timestamp": 1636300488131,
     "user": {
      "displayName": "Kamalaksha Nc",
      "photoUrl": "https://lh3.googleusercontent.com/a-/AOh14Gjxg6EmzK8ORLJZD8DHsJ-32YRw9tE3tAvDYH0K=s64",
      "userId": "05305898749409546367"
     },
     "user_tz": -330
    },
    "id": "mreEpqeBsrbv"
   },
   "outputs": [],
   "source": [
    "train.drop('Outlet_Size',axis=1,inplace=True)"
   ]
  },
  {
   "cell_type": "code",
   "execution_count": 15,
   "metadata": {
    "colab": {
     "base_uri": "https://localhost:8080/",
     "height": 167
    },
    "executionInfo": {
     "elapsed": 80,
     "status": "ok",
     "timestamp": 1636300488134,
     "user": {
      "displayName": "Kamalaksha Nc",
      "photoUrl": "https://lh3.googleusercontent.com/a-/AOh14Gjxg6EmzK8ORLJZD8DHsJ-32YRw9tE3tAvDYH0K=s64",
      "userId": "05305898749409546367"
     },
     "user_tz": -330
    },
    "id": "T4uXcTebrb7N",
    "outputId": "d0624fe6-2bae-4ff4-b37a-4a75f27720bf"
   },
   "outputs": [
    {
     "data": {
      "text/html": [
       "<div>\n",
       "<style scoped>\n",
       "    .dataframe tbody tr th:only-of-type {\n",
       "        vertical-align: middle;\n",
       "    }\n",
       "\n",
       "    .dataframe tbody tr th {\n",
       "        vertical-align: top;\n",
       "    }\n",
       "\n",
       "    .dataframe thead th {\n",
       "        text-align: right;\n",
       "    }\n",
       "</style>\n",
       "<table border=\"1\" class=\"dataframe\">\n",
       "  <thead>\n",
       "    <tr style=\"text-align: right;\">\n",
       "      <th></th>\n",
       "      <th>Item_Identifier</th>\n",
       "      <th>Item_Weight</th>\n",
       "      <th>Item_Fat_Content</th>\n",
       "      <th>Item_Visibility</th>\n",
       "      <th>Item_Type</th>\n",
       "      <th>Item_MRP</th>\n",
       "      <th>Outlet_Identifier</th>\n",
       "      <th>Outlet_Establishment_Year</th>\n",
       "      <th>Outlet_Location_Type</th>\n",
       "      <th>Outlet_Type</th>\n",
       "      <th>Item_Outlet_Sales</th>\n",
       "      <th>Random_Outlet_Size</th>\n",
       "    </tr>\n",
       "  </thead>\n",
       "  <tbody>\n",
       "    <tr>\n",
       "      <th>0</th>\n",
       "      <td>FDA15</td>\n",
       "      <td>9.30</td>\n",
       "      <td>Low Fat</td>\n",
       "      <td>0.016047</td>\n",
       "      <td>Dairy</td>\n",
       "      <td>249.8092</td>\n",
       "      <td>OUT049</td>\n",
       "      <td>1999</td>\n",
       "      <td>Tier 1</td>\n",
       "      <td>Supermarket Type1</td>\n",
       "      <td>3735.1380</td>\n",
       "      <td>Medium</td>\n",
       "    </tr>\n",
       "    <tr>\n",
       "      <th>1</th>\n",
       "      <td>DRC01</td>\n",
       "      <td>5.92</td>\n",
       "      <td>Regular</td>\n",
       "      <td>0.019278</td>\n",
       "      <td>Soft Drinks</td>\n",
       "      <td>48.2692</td>\n",
       "      <td>OUT018</td>\n",
       "      <td>2009</td>\n",
       "      <td>Tier 3</td>\n",
       "      <td>Supermarket Type2</td>\n",
       "      <td>443.4228</td>\n",
       "      <td>Medium</td>\n",
       "    </tr>\n",
       "  </tbody>\n",
       "</table>\n",
       "</div>"
      ],
      "text/plain": [
       "  Item_Identifier  Item_Weight  ... Item_Outlet_Sales  Random_Outlet_Size\n",
       "0           FDA15         9.30  ...         3735.1380              Medium\n",
       "1           DRC01         5.92  ...          443.4228              Medium\n",
       "\n",
       "[2 rows x 12 columns]"
      ]
     },
     "execution_count": 15,
     "metadata": {},
     "output_type": "execute_result"
    }
   ],
   "source": [
    "train.head(2)"
   ]
  },
  {
   "cell_type": "code",
   "execution_count": 16,
   "metadata": {
    "colab": {
     "base_uri": "https://localhost:8080/"
    },
    "executionInfo": {
     "elapsed": 77,
     "status": "ok",
     "timestamp": 1636300488137,
     "user": {
      "displayName": "Kamalaksha Nc",
      "photoUrl": "https://lh3.googleusercontent.com/a-/AOh14Gjxg6EmzK8ORLJZD8DHsJ-32YRw9tE3tAvDYH0K=s64",
      "userId": "05305898749409546367"
     },
     "user_tz": -330
    },
    "id": "6cxXuLZycHat",
    "outputId": "9f16d659-be13-4eb0-88ac-593902b02e4e"
   },
   "outputs": [
    {
     "data": {
      "text/plain": [
       "Item_Identifier              0\n",
       "Item_Weight                  0\n",
       "Item_Fat_Content             0\n",
       "Item_Visibility              0\n",
       "Item_Type                    0\n",
       "Item_MRP                     0\n",
       "Outlet_Identifier            0\n",
       "Outlet_Establishment_Year    0\n",
       "Outlet_Location_Type         0\n",
       "Outlet_Type                  0\n",
       "Item_Outlet_Sales            0\n",
       "Random_Outlet_Size           0\n",
       "dtype: int64"
      ]
     },
     "execution_count": 16,
     "metadata": {},
     "output_type": "execute_result"
    }
   ],
   "source": [
    "train.isnull().sum()"
   ]
  },
  {
   "cell_type": "markdown",
   "metadata": {
    "id": "myhxNe8cIfAv"
   },
   "source": [
    "Checking for correlation"
   ]
  },
  {
   "cell_type": "code",
   "execution_count": 17,
   "metadata": {
    "colab": {
     "base_uri": "https://localhost:8080/",
     "height": 501
    },
    "executionInfo": {
     "elapsed": 63,
     "status": "ok",
     "timestamp": 1636300488140,
     "user": {
      "displayName": "Kamalaksha Nc",
      "photoUrl": "https://lh3.googleusercontent.com/a-/AOh14Gjxg6EmzK8ORLJZD8DHsJ-32YRw9tE3tAvDYH0K=s64",
      "userId": "05305898749409546367"
     },
     "user_tz": -330
    },
    "id": "8l3f4699IjHN",
    "outputId": "cc9fa182-623d-4655-8bdc-35fb7cba7516"
   },
   "outputs": [
    {
     "data": {
      "image/png": "[encoded data removed]",
      "text/plain": [
       "<Figure size 720x432 with 2 Axes>"
      ]
     },
     "metadata": {
      "needs_background": "light"
     },
     "output_type": "display_data"
    }
   ],
   "source": [
    "plt.figure(figsize=(10,6))\n",
    "sns.heatmap(train.corr(),annot=True)\n",
    "plt.show()"
   ]
  },
  {
   "cell_type": "code",
   "execution_count": 17,
   "metadata": {
    "executionInfo": {
     "elapsed": 60,
     "status": "ok",
     "timestamp": 1636300488143,
     "user": {
      "displayName": "Kamalaksha Nc",
      "photoUrl": "https://lh3.googleusercontent.com/a-/AOh14Gjxg6EmzK8ORLJZD8DHsJ-32YRw9tE3tAvDYH0K=s64",
      "userId": "05305898749409546367"
     },
     "user_tz": -330
    },
    "id": "HcS0na0pIjEV"
   },
   "outputs": [],
   "source": []
  },
  {
   "cell_type": "code",
   "execution_count": 17,
   "metadata": {
    "executionInfo": {
     "elapsed": 59,
     "status": "ok",
     "timestamp": 1636300488145,
     "user": {
      "displayName": "Kamalaksha Nc",
      "photoUrl": "https://lh3.googleusercontent.com/a-/AOh14Gjxg6EmzK8ORLJZD8DHsJ-32YRw9tE3tAvDYH0K=s64",
      "userId": "05305898749409546367"
     },
     "user_tz": -330
    },
    "id": "-mPTKqhRIi_P"
   },
   "outputs": [],
   "source": []
  },
  {
   "cell_type": "markdown",
   "metadata": {
    "id": "XHC68fWDwSVk"
   },
   "source": [
    "## 3. **Handling categorical data**"
   ]
  },
  {
   "cell_type": "code",
   "execution_count": 18,
   "metadata": {
    "executionInfo": {
     "elapsed": 775,
     "status": "ok",
     "timestamp": 1636300488863,
     "user": {
      "displayName": "Kamalaksha Nc",
      "photoUrl": "https://lh3.googleusercontent.com/a-/AOh14Gjxg6EmzK8ORLJZD8DHsJ-32YRw9tE3tAvDYH0K=s64",
      "userId": "05305898749409546367"
     },
     "user_tz": -330
    },
    "id": "k3n-kYow5wnO"
   },
   "outputs": [],
   "source": [
    "from sklearn.preprocessing import LabelEncoder\n",
    "lebel_encoder =  LabelEncoder()"
   ]
  },
  {
   "cell_type": "code",
   "execution_count": 19,
   "metadata": {
    "colab": {
     "base_uri": "https://localhost:8080/",
     "height": 423
    },
    "executionInfo": {
     "elapsed": 77,
     "status": "ok",
     "timestamp": 1636300488864,
     "user": {
      "displayName": "Kamalaksha Nc",
      "photoUrl": "https://lh3.googleusercontent.com/a-/AOh14Gjxg6EmzK8ORLJZD8DHsJ-32YRw9tE3tAvDYH0K=s64",
      "userId": "05305898749409546367"
     },
     "user_tz": -330
    },
    "id": "syihDhJsvtvS",
    "outputId": "8c6a1b9d-561e-4f94-8095-159692e98ee1"
   },
   "outputs": [
    {
     "data": {
      "text/html": [
       "<div>\n",
       "<style scoped>\n",
       "    .dataframe tbody tr th:only-of-type {\n",
       "        vertical-align: middle;\n",
       "    }\n",
       "\n",
       "    .dataframe tbody tr th {\n",
       "        vertical-align: top;\n",
       "    }\n",
       "\n",
       "    .dataframe thead th {\n",
       "        text-align: right;\n",
       "    }\n",
       "</style>\n",
       "<table border=\"1\" class=\"dataframe\">\n",
       "  <thead>\n",
       "    <tr style=\"text-align: right;\">\n",
       "      <th></th>\n",
       "      <th>Item_Identifier</th>\n",
       "      <th>Item_Fat_Content</th>\n",
       "      <th>Item_Type</th>\n",
       "      <th>Outlet_Identifier</th>\n",
       "      <th>Outlet_Location_Type</th>\n",
       "      <th>Outlet_Type</th>\n",
       "      <th>Random_Outlet_Size</th>\n",
       "    </tr>\n",
       "  </thead>\n",
       "  <tbody>\n",
       "    <tr>\n",
       "      <th>0</th>\n",
       "      <td>FDA15</td>\n",
       "      <td>Low Fat</td>\n",
       "      <td>Dairy</td>\n",
       "      <td>OUT049</td>\n",
       "      <td>Tier 1</td>\n",
       "      <td>Supermarket Type1</td>\n",
       "      <td>Medium</td>\n",
       "    </tr>\n",
       "    <tr>\n",
       "      <th>1</th>\n",
       "      <td>DRC01</td>\n",
       "      <td>Regular</td>\n",
       "      <td>Soft Drinks</td>\n",
       "      <td>OUT018</td>\n",
       "      <td>Tier 3</td>\n",
       "      <td>Supermarket Type2</td>\n",
       "      <td>Medium</td>\n",
       "    </tr>\n",
       "    <tr>\n",
       "      <th>2</th>\n",
       "      <td>FDN15</td>\n",
       "      <td>Low Fat</td>\n",
       "      <td>Meat</td>\n",
       "      <td>OUT049</td>\n",
       "      <td>Tier 1</td>\n",
       "      <td>Supermarket Type1</td>\n",
       "      <td>Medium</td>\n",
       "    </tr>\n",
       "    <tr>\n",
       "      <th>3</th>\n",
       "      <td>FDX07</td>\n",
       "      <td>Regular</td>\n",
       "      <td>Fruits and Vegetables</td>\n",
       "      <td>OUT010</td>\n",
       "      <td>Tier 3</td>\n",
       "      <td>Grocery Store</td>\n",
       "      <td>Small</td>\n",
       "    </tr>\n",
       "    <tr>\n",
       "      <th>4</th>\n",
       "      <td>NCD19</td>\n",
       "      <td>Low Fat</td>\n",
       "      <td>Household</td>\n",
       "      <td>OUT013</td>\n",
       "      <td>Tier 3</td>\n",
       "      <td>Supermarket Type1</td>\n",
       "      <td>High</td>\n",
       "    </tr>\n",
       "    <tr>\n",
       "      <th>...</th>\n",
       "      <td>...</td>\n",
       "      <td>...</td>\n",
       "      <td>...</td>\n",
       "      <td>...</td>\n",
       "      <td>...</td>\n",
       "      <td>...</td>\n",
       "      <td>...</td>\n",
       "    </tr>\n",
       "    <tr>\n",
       "      <th>8518</th>\n",
       "      <td>FDF22</td>\n",
       "      <td>Low Fat</td>\n",
       "      <td>Snack Foods</td>\n",
       "      <td>OUT013</td>\n",
       "      <td>Tier 3</td>\n",
       "      <td>Supermarket Type1</td>\n",
       "      <td>High</td>\n",
       "    </tr>\n",
       "    <tr>\n",
       "      <th>8519</th>\n",
       "      <td>FDS36</td>\n",
       "      <td>Regular</td>\n",
       "      <td>Baking Goods</td>\n",
       "      <td>OUT045</td>\n",
       "      <td>Tier 2</td>\n",
       "      <td>Supermarket Type1</td>\n",
       "      <td>Small</td>\n",
       "    </tr>\n",
       "    <tr>\n",
       "      <th>8520</th>\n",
       "      <td>NCJ29</td>\n",
       "      <td>Low Fat</td>\n",
       "      <td>Health and Hygiene</td>\n",
       "      <td>OUT035</td>\n",
       "      <td>Tier 2</td>\n",
       "      <td>Supermarket Type1</td>\n",
       "      <td>Small</td>\n",
       "    </tr>\n",
       "    <tr>\n",
       "      <th>8521</th>\n",
       "      <td>FDN46</td>\n",
       "      <td>Regular</td>\n",
       "      <td>Snack Foods</td>\n",
       "      <td>OUT018</td>\n",
       "      <td>Tier 3</td>\n",
       "      <td>Supermarket Type2</td>\n",
       "      <td>Medium</td>\n",
       "    </tr>\n",
       "    <tr>\n",
       "      <th>8522</th>\n",
       "      <td>DRG01</td>\n",
       "      <td>Low Fat</td>\n",
       "      <td>Soft Drinks</td>\n",
       "      <td>OUT046</td>\n",
       "      <td>Tier 1</td>\n",
       "      <td>Supermarket Type1</td>\n",
       "      <td>Small</td>\n",
       "    </tr>\n",
       "  </tbody>\n",
       "</table>\n",
       "<p>8523 rows × 7 columns</p>\n",
       "</div>"
      ],
      "text/plain": [
       "     Item_Identifier Item_Fat_Content  ...        Outlet_Type Random_Outlet_Size\n",
       "0              FDA15          Low Fat  ...  Supermarket Type1             Medium\n",
       "1              DRC01          Regular  ...  Supermarket Type2             Medium\n",
       "2              FDN15          Low Fat  ...  Supermarket Type1             Medium\n",
       "3              FDX07          Regular  ...      Grocery Store              Small\n",
       "4              NCD19          Low Fat  ...  Supermarket Type1               High\n",
       "...              ...              ...  ...                ...                ...\n",
       "8518           FDF22          Low Fat  ...  Supermarket Type1               High\n",
       "8519           FDS36          Regular  ...  Supermarket Type1              Small\n",
       "8520           NCJ29          Low Fat  ...  Supermarket Type1              Small\n",
       "8521           FDN46          Regular  ...  Supermarket Type2             Medium\n",
       "8522           DRG01          Low Fat  ...  Supermarket Type1              Small\n",
       "\n",
       "[8523 rows x 7 columns]"
      ]
     },
     "execution_count": 19,
     "metadata": {},
     "output_type": "execute_result"
    }
   ],
   "source": [
    "train.select_dtypes(object)"
   ]
  },
  {
   "cell_type": "code",
   "execution_count": 20,
   "metadata": {
    "executionInfo": {
     "elapsed": 74,
     "status": "ok",
     "timestamp": 1636300488865,
     "user": {
      "displayName": "Kamalaksha Nc",
      "photoUrl": "https://lh3.googleusercontent.com/a-/AOh14Gjxg6EmzK8ORLJZD8DHsJ-32YRw9tE3tAvDYH0K=s64",
      "userId": "05305898749409546367"
     },
     "user_tz": -330
    },
    "id": "cDYpXZoFxBfy"
   },
   "outputs": [],
   "source": [
    "#Handling Item_fate_content feature\n",
    "#train['Item_Fat_Content'].unique()"
   ]
  },
  {
   "cell_type": "code",
   "execution_count": 21,
   "metadata": {
    "executionInfo": {
     "elapsed": 75,
     "status": "ok",
     "timestamp": 1636300488867,
     "user": {
      "displayName": "Kamalaksha Nc",
      "photoUrl": "https://lh3.googleusercontent.com/a-/AOh14Gjxg6EmzK8ORLJZD8DHsJ-32YRw9tE3tAvDYH0K=s64",
      "userId": "05305898749409546367"
     },
     "user_tz": -330
    },
    "id": "uob7wZZOxnbi"
   },
   "outputs": [],
   "source": [
    "#replacing ('low fat',LF) variables to 'Low Fat' and 'reg' to 'Regular' beacause they are same \n",
    "train['Item_Fat_Content'].replace({'reg':'Regular','low fat':'Low Fat','LF':'Low Fat'},inplace=True)"
   ]
  },
  {
   "cell_type": "code",
   "execution_count": 22,
   "metadata": {
    "executionInfo": {
     "elapsed": 75,
     "status": "ok",
     "timestamp": 1636300488869,
     "user": {
      "displayName": "Kamalaksha Nc",
      "photoUrl": "https://lh3.googleusercontent.com/a-/AOh14Gjxg6EmzK8ORLJZD8DHsJ-32YRw9tE3tAvDYH0K=s64",
      "userId": "05305898749409546367"
     },
     "user_tz": -330
    },
    "id": "uw5q8wpazcnA"
   },
   "outputs": [],
   "source": [
    "#Now performing Ordinal Encoding on 'Item_Fat_Content' feature\n",
    "#train['Item_Fat_Content'].replace({'Regular':1,'Low Fat':2},inplace=True)\n"
   ]
  },
  {
   "cell_type": "code",
   "execution_count": 23,
   "metadata": {
    "executionInfo": {
     "elapsed": 74,
     "status": "ok",
     "timestamp": 1636300488870,
     "user": {
      "displayName": "Kamalaksha Nc",
      "photoUrl": "https://lh3.googleusercontent.com/a-/AOh14Gjxg6EmzK8ORLJZD8DHsJ-32YRw9tE3tAvDYH0K=s64",
      "userId": "05305898749409546367"
     },
     "user_tz": -330
    },
    "id": "qWwPyixZ0pwV"
   },
   "outputs": [],
   "source": [
    "#Performing Ordinal Encoding on Outlet_Location_Type\t\n",
    "#train['Outlet_Location_Type'].unique()"
   ]
  },
  {
   "cell_type": "code",
   "execution_count": 24,
   "metadata": {
    "executionInfo": {
     "elapsed": 74,
     "status": "ok",
     "timestamp": 1636300488871,
     "user": {
      "displayName": "Kamalaksha Nc",
      "photoUrl": "https://lh3.googleusercontent.com/a-/AOh14Gjxg6EmzK8ORLJZD8DHsJ-32YRw9tE3tAvDYH0K=s64",
      "userId": "05305898749409546367"
     },
     "user_tz": -330
    },
    "id": "yi3u0ENe28Wr"
   },
   "outputs": [],
   "source": [
    "#train['Outlet_Location_Type'].replace({'Tier 1':3,'Tier 2':2,'Tier 3':1},inplace=True)\n"
   ]
  },
  {
   "cell_type": "code",
   "execution_count": 25,
   "metadata": {
    "executionInfo": {
     "elapsed": 72,
     "status": "ok",
     "timestamp": 1636300488871,
     "user": {
      "displayName": "Kamalaksha Nc",
      "photoUrl": "https://lh3.googleusercontent.com/a-/AOh14Gjxg6EmzK8ORLJZD8DHsJ-32YRw9tE3tAvDYH0K=s64",
      "userId": "05305898749409546367"
     },
     "user_tz": -330
    },
    "id": "AYbkwuGol2A1"
   },
   "outputs": [],
   "source": [
    "#performin ordinal encoding on Outlet_Type and Random_Outlet_Size\n",
    "#train['Outlet_Type'].unique()\n",
    "#train['Random_Outlet_Size'].unique()"
   ]
  },
  {
   "cell_type": "code",
   "execution_count": 26,
   "metadata": {
    "executionInfo": {
     "elapsed": 72,
     "status": "ok",
     "timestamp": 1636300488872,
     "user": {
      "displayName": "Kamalaksha Nc",
      "photoUrl": "https://lh3.googleusercontent.com/a-/AOh14Gjxg6EmzK8ORLJZD8DHsJ-32YRw9tE3tAvDYH0K=s64",
      "userId": "05305898749409546367"
     },
     "user_tz": -330
    },
    "id": "PdPhHYY9mZ5h"
   },
   "outputs": [],
   "source": [
    "#train['Outlet_Type'].replace({'Supermarket Type1':3,'Supermarket Type2':2,'Supermarket Type3':1,'Grocery Store':0},inplace=True)\n",
    "#train['Random_Outlet_Size'].replace({'High':3,'Medium':2,'Small':1},inplace=True)\n"
   ]
  },
  {
   "cell_type": "code",
   "execution_count": 27,
   "metadata": {
    "executionInfo": {
     "elapsed": 72,
     "status": "ok",
     "timestamp": 1636300488873,
     "user": {
      "displayName": "Kamalaksha Nc",
      "photoUrl": "https://lh3.googleusercontent.com/a-/AOh14Gjxg6EmzK8ORLJZD8DHsJ-32YRw9tE3tAvDYH0K=s64",
      "userId": "05305898749409546367"
     },
     "user_tz": -330
    },
    "id": "D0-ki7EgnRAN"
   },
   "outputs": [],
   "source": [
    "#Performing encoding on Item_Type"
   ]
  },
  {
   "cell_type": "code",
   "execution_count": 28,
   "metadata": {
    "executionInfo": {
     "elapsed": 67,
     "status": "ok",
     "timestamp": 1636300488873,
     "user": {
      "displayName": "Kamalaksha Nc",
      "photoUrl": "https://lh3.googleusercontent.com/a-/AOh14Gjxg6EmzK8ORLJZD8DHsJ-32YRw9tE3tAvDYH0K=s64",
      "userId": "05305898749409546367"
     },
     "user_tz": -330
    },
    "id": "5-gSE020qHCR"
   },
   "outputs": [],
   "source": [
    "#Performing one-hot Encoding on Item_Type\n",
    "New_Item_Type = pd.get_dummies(train['Item_Type'],drop_first=True)\n",
    "train = pd.concat([train,New_Item_Type],axis=1)\n",
    "train.drop('Item_Type',axis=1,inplace=True)\n",
    "#Performing label encoding to get better accuracy\n"
   ]
  },
  {
   "cell_type": "code",
   "execution_count": 29,
   "metadata": {
    "executionInfo": {
     "elapsed": 66,
     "status": "ok",
     "timestamp": 1636300488874,
     "user": {
      "displayName": "Kamalaksha Nc",
      "photoUrl": "https://lh3.googleusercontent.com/a-/AOh14Gjxg6EmzK8ORLJZD8DHsJ-32YRw9tE3tAvDYH0K=s64",
      "userId": "05305898749409546367"
     },
     "user_tz": -330
    },
    "id": "wsF65NsNKvNn"
   },
   "outputs": [],
   "source": [
    "#Performing label encodinf on categorical data\n",
    "\n",
    "#train['Item_Type'] = lebel_encoder.fit_transform(train['Item_Type'])\n",
    "train['Outlet_Type'] = lebel_encoder.fit_transform(train['Outlet_Type'])\n",
    "train['Random_Outlet_Size'] = lebel_encoder.fit_transform(train['Random_Outlet_Size'])\n",
    "train['Outlet_Location_Type'] = lebel_encoder.fit_transform(train['Outlet_Location_Type'])\n",
    "train['Item_Fat_Content'] = lebel_encoder.fit_transform(train['Item_Fat_Content'])"
   ]
  },
  {
   "cell_type": "code",
   "execution_count": 30,
   "metadata": {
    "colab": {
     "base_uri": "https://localhost:8080/",
     "height": 261
    },
    "executionInfo": {
     "elapsed": 66,
     "status": "ok",
     "timestamp": 1636300488875,
     "user": {
      "displayName": "Kamalaksha Nc",
      "photoUrl": "https://lh3.googleusercontent.com/a-/AOh14Gjxg6EmzK8ORLJZD8DHsJ-32YRw9tE3tAvDYH0K=s64",
      "userId": "05305898749409546367"
     },
     "user_tz": -330
    },
    "id": "biYB6lIQqHEo",
    "outputId": "603c171a-f712-4afd-ab17-3c7d9fcec049"
   },
   "outputs": [
    {
     "data": {
      "text/html": [
       "<div>\n",
       "<style scoped>\n",
       "    .dataframe tbody tr th:only-of-type {\n",
       "        vertical-align: middle;\n",
       "    }\n",
       "\n",
       "    .dataframe tbody tr th {\n",
       "        vertical-align: top;\n",
       "    }\n",
       "\n",
       "    .dataframe thead th {\n",
       "        text-align: right;\n",
       "    }\n",
       "</style>\n",
       "<table border=\"1\" class=\"dataframe\">\n",
       "  <thead>\n",
       "    <tr style=\"text-align: right;\">\n",
       "      <th></th>\n",
       "      <th>Item_Identifier</th>\n",
       "      <th>Item_Weight</th>\n",
       "      <th>Item_Fat_Content</th>\n",
       "      <th>Item_Visibility</th>\n",
       "      <th>Item_MRP</th>\n",
       "      <th>Outlet_Identifier</th>\n",
       "      <th>Outlet_Establishment_Year</th>\n",
       "      <th>Outlet_Location_Type</th>\n",
       "      <th>Outlet_Type</th>\n",
       "      <th>Item_Outlet_Sales</th>\n",
       "      <th>Random_Outlet_Size</th>\n",
       "      <th>Breads</th>\n",
       "      <th>Breakfast</th>\n",
       "      <th>Canned</th>\n",
       "      <th>Dairy</th>\n",
       "      <th>Frozen Foods</th>\n",
       "      <th>Fruits and Vegetables</th>\n",
       "      <th>Hard Drinks</th>\n",
       "      <th>Health and Hygiene</th>\n",
       "      <th>Household</th>\n",
       "      <th>Meat</th>\n",
       "      <th>Others</th>\n",
       "      <th>Seafood</th>\n",
       "      <th>Snack Foods</th>\n",
       "      <th>Soft Drinks</th>\n",
       "      <th>Starchy Foods</th>\n",
       "    </tr>\n",
       "  </thead>\n",
       "  <tbody>\n",
       "    <tr>\n",
       "      <th>0</th>\n",
       "      <td>FDA15</td>\n",
       "      <td>9.30</td>\n",
       "      <td>0</td>\n",
       "      <td>0.016047</td>\n",
       "      <td>249.8092</td>\n",
       "      <td>OUT049</td>\n",
       "      <td>1999</td>\n",
       "      <td>0</td>\n",
       "      <td>1</td>\n",
       "      <td>3735.1380</td>\n",
       "      <td>1</td>\n",
       "      <td>0</td>\n",
       "      <td>0</td>\n",
       "      <td>0</td>\n",
       "      <td>1</td>\n",
       "      <td>0</td>\n",
       "      <td>0</td>\n",
       "      <td>0</td>\n",
       "      <td>0</td>\n",
       "      <td>0</td>\n",
       "      <td>0</td>\n",
       "      <td>0</td>\n",
       "      <td>0</td>\n",
       "      <td>0</td>\n",
       "      <td>0</td>\n",
       "      <td>0</td>\n",
       "    </tr>\n",
       "    <tr>\n",
       "      <th>1</th>\n",
       "      <td>DRC01</td>\n",
       "      <td>5.92</td>\n",
       "      <td>1</td>\n",
       "      <td>0.019278</td>\n",
       "      <td>48.2692</td>\n",
       "      <td>OUT018</td>\n",
       "      <td>2009</td>\n",
       "      <td>2</td>\n",
       "      <td>2</td>\n",
       "      <td>443.4228</td>\n",
       "      <td>1</td>\n",
       "      <td>0</td>\n",
       "      <td>0</td>\n",
       "      <td>0</td>\n",
       "      <td>0</td>\n",
       "      <td>0</td>\n",
       "      <td>0</td>\n",
       "      <td>0</td>\n",
       "      <td>0</td>\n",
       "      <td>0</td>\n",
       "      <td>0</td>\n",
       "      <td>0</td>\n",
       "      <td>0</td>\n",
       "      <td>0</td>\n",
       "      <td>1</td>\n",
       "      <td>0</td>\n",
       "    </tr>\n",
       "    <tr>\n",
       "      <th>2</th>\n",
       "      <td>FDN15</td>\n",
       "      <td>17.50</td>\n",
       "      <td>0</td>\n",
       "      <td>0.016760</td>\n",
       "      <td>141.6180</td>\n",
       "      <td>OUT049</td>\n",
       "      <td>1999</td>\n",
       "      <td>0</td>\n",
       "      <td>1</td>\n",
       "      <td>2097.2700</td>\n",
       "      <td>1</td>\n",
       "      <td>0</td>\n",
       "      <td>0</td>\n",
       "      <td>0</td>\n",
       "      <td>0</td>\n",
       "      <td>0</td>\n",
       "      <td>0</td>\n",
       "      <td>0</td>\n",
       "      <td>0</td>\n",
       "      <td>0</td>\n",
       "      <td>1</td>\n",
       "      <td>0</td>\n",
       "      <td>0</td>\n",
       "      <td>0</td>\n",
       "      <td>0</td>\n",
       "      <td>0</td>\n",
       "    </tr>\n",
       "    <tr>\n",
       "      <th>3</th>\n",
       "      <td>FDX07</td>\n",
       "      <td>19.20</td>\n",
       "      <td>1</td>\n",
       "      <td>0.000000</td>\n",
       "      <td>182.0950</td>\n",
       "      <td>OUT010</td>\n",
       "      <td>1998</td>\n",
       "      <td>2</td>\n",
       "      <td>0</td>\n",
       "      <td>732.3800</td>\n",
       "      <td>2</td>\n",
       "      <td>0</td>\n",
       "      <td>0</td>\n",
       "      <td>0</td>\n",
       "      <td>0</td>\n",
       "      <td>0</td>\n",
       "      <td>1</td>\n",
       "      <td>0</td>\n",
       "      <td>0</td>\n",
       "      <td>0</td>\n",
       "      <td>0</td>\n",
       "      <td>0</td>\n",
       "      <td>0</td>\n",
       "      <td>0</td>\n",
       "      <td>0</td>\n",
       "      <td>0</td>\n",
       "    </tr>\n",
       "    <tr>\n",
       "      <th>4</th>\n",
       "      <td>NCD19</td>\n",
       "      <td>8.93</td>\n",
       "      <td>0</td>\n",
       "      <td>0.000000</td>\n",
       "      <td>53.8614</td>\n",
       "      <td>OUT013</td>\n",
       "      <td>1987</td>\n",
       "      <td>2</td>\n",
       "      <td>1</td>\n",
       "      <td>994.7052</td>\n",
       "      <td>0</td>\n",
       "      <td>0</td>\n",
       "      <td>0</td>\n",
       "      <td>0</td>\n",
       "      <td>0</td>\n",
       "      <td>0</td>\n",
       "      <td>0</td>\n",
       "      <td>0</td>\n",
       "      <td>0</td>\n",
       "      <td>1</td>\n",
       "      <td>0</td>\n",
       "      <td>0</td>\n",
       "      <td>0</td>\n",
       "      <td>0</td>\n",
       "      <td>0</td>\n",
       "      <td>0</td>\n",
       "    </tr>\n",
       "  </tbody>\n",
       "</table>\n",
       "</div>"
      ],
      "text/plain": [
       "  Item_Identifier  Item_Weight  ...  Soft Drinks  Starchy Foods\n",
       "0           FDA15         9.30  ...            0              0\n",
       "1           DRC01         5.92  ...            1              0\n",
       "2           FDN15        17.50  ...            0              0\n",
       "3           FDX07        19.20  ...            0              0\n",
       "4           NCD19         8.93  ...            0              0\n",
       "\n",
       "[5 rows x 26 columns]"
      ]
     },
     "execution_count": 30,
     "metadata": {},
     "output_type": "execute_result"
    }
   ],
   "source": [
    "train.head()"
   ]
  },
  {
   "cell_type": "code",
   "execution_count": 31,
   "metadata": {
    "executionInfo": {
     "elapsed": 63,
     "status": "ok",
     "timestamp": 1636300488876,
     "user": {
      "displayName": "Kamalaksha Nc",
      "photoUrl": "https://lh3.googleusercontent.com/a-/AOh14Gjxg6EmzK8ORLJZD8DHsJ-32YRw9tE3tAvDYH0K=s64",
      "userId": "05305898749409546367"
     },
     "user_tz": -330
    },
    "id": "_XOav9PNMoEI"
   },
   "outputs": [],
   "source": [
    "#performing one hot encoding\n",
    "#df = train[['Item_Fat_Content','Outlet_Location_Type','Outlet_Type','Random_Outlet_Size']]\n",
    "#df1 = pd.get_dummies(train['Item_Fat_Content'],prefix=\"Item_Fat\",drop_first=True)\n",
    "#df2= pd.get_dummies(train['Outlet_Location_Type'],prefix=\"Outlet_location\",drop_first=True)\n",
    "#df3 = pd.get_dummies(train['Outlet_Type'],prefix=\"Outlet_Type\",drop_first=True)\n",
    "#df4 = pd.get_dummies(train['Random_Outlet_Size'],prefix=\"Random_Outlet_Size\",drop_first=True)\n",
    "#train = pd.concat([df1,df2,df3,df4,train],axis=1)\n",
    "#train.head()"
   ]
  },
  {
   "cell_type": "markdown",
   "metadata": {
    "id": "CMkW95Bo-vLb"
   },
   "source": [
    "Checking for Outliers"
   ]
  },
  {
   "cell_type": "code",
   "execution_count": 32,
   "metadata": {
    "colab": {
     "base_uri": "https://localhost:8080/"
    },
    "executionInfo": {
     "elapsed": 62,
     "status": "ok",
     "timestamp": 1636300488876,
     "user": {
      "displayName": "Kamalaksha Nc",
      "photoUrl": "https://lh3.googleusercontent.com/a-/AOh14Gjxg6EmzK8ORLJZD8DHsJ-32YRw9tE3tAvDYH0K=s64",
      "userId": "05305898749409546367"
     },
     "user_tz": -330
    },
    "id": "BOUZkKnR-t3P",
    "outputId": "e380fbd4-eebc-431d-ca43-0c01b25375fa"
   },
   "outputs": [
    {
     "data": {
      "text/plain": [
       "Index(['Item_Identifier', 'Item_Weight', 'Item_Fat_Content', 'Item_Visibility',\n",
       "       'Item_MRP', 'Outlet_Identifier', 'Outlet_Establishment_Year',\n",
       "       'Outlet_Location_Type', 'Outlet_Type', 'Item_Outlet_Sales',\n",
       "       'Random_Outlet_Size', 'Breads', 'Breakfast', 'Canned', 'Dairy',\n",
       "       'Frozen Foods', 'Fruits and Vegetables', 'Hard Drinks',\n",
       "       'Health and Hygiene', 'Household', 'Meat', 'Others', 'Seafood',\n",
       "       'Snack Foods', 'Soft Drinks', 'Starchy Foods'],\n",
       "      dtype='object')"
      ]
     },
     "execution_count": 32,
     "metadata": {},
     "output_type": "execute_result"
    }
   ],
   "source": [
    "train.columns"
   ]
  },
  {
   "cell_type": "code",
   "execution_count": 33,
   "metadata": {
    "colab": {
     "base_uri": "https://localhost:8080/",
     "height": 352
    },
    "executionInfo": {
     "elapsed": 50,
     "status": "ok",
     "timestamp": 1636300488877,
     "user": {
      "displayName": "Kamalaksha Nc",
      "photoUrl": "https://lh3.googleusercontent.com/a-/AOh14Gjxg6EmzK8ORLJZD8DHsJ-32YRw9tE3tAvDYH0K=s64",
      "userId": "05305898749409546367"
     },
     "user_tz": -330
    },
    "id": "vZTAfZXH-trP",
    "outputId": "4163d2c0-538c-4d46-d614-bbabfa9ee699"
   },
   "outputs": [
    {
     "name": "stderr",
     "output_type": "stream",
     "text": [
      "/usr/local/lib/python3.7/dist-packages/seaborn/_decorators.py:43: FutureWarning: Pass the following variable as a keyword arg: x. From version 0.12, the only valid positional argument will be `data`, and passing other arguments without an explicit keyword will result in an error or misinterpretation.\n",
      "  FutureWarning\n"
     ]
    },
    {
     "data": {
      "text/plain": [
       "<matplotlib.axes._subplots.AxesSubplot at 0x7f7510947950>"
      ]
     },
     "execution_count": 33,
     "metadata": {},
     "output_type": "execute_result"
    },
    {
     "data": {
      "image/png": "[encoded data removed]",
      "text/plain": [
       "<Figure size 432x288 with 1 Axes>"
      ]
     },
     "metadata": {
      "needs_background": "light"
     },
     "output_type": "display_data"
    }
   ],
   "source": [
    "sns.boxplot(train['Item_Visibility'])"
   ]
  },
  {
   "cell_type": "code",
   "execution_count": 34,
   "metadata": {
    "executionInfo": {
     "elapsed": 44,
     "status": "ok",
     "timestamp": 1636300488879,
     "user": {
      "displayName": "Kamalaksha Nc",
      "photoUrl": "https://lh3.googleusercontent.com/a-/AOh14Gjxg6EmzK8ORLJZD8DHsJ-32YRw9tE3tAvDYH0K=s64",
      "userId": "05305898749409546367"
     },
     "user_tz": -330
    },
    "id": "H_c8EUKfEL-o"
   },
   "outputs": [],
   "source": [
    "Q1 = train['Item_Visibility'].quantile(0.25)\n",
    "Q3 =  train['Item_Visibility'].quantile(0.75)\n",
    "IQR =  Q3-Q1\n",
    "lower_range = Q1-(1.5*IQR)\n",
    "upper_range = Q3+(1.5*IQR)\n",
    "\n",
    "train = train[(train['Item_Visibility']>lower_range) & (train['Item_Visibility']<upper_range)]\n",
    "\n"
   ]
  },
  {
   "cell_type": "code",
   "execution_count": 35,
   "metadata": {
    "colab": {
     "base_uri": "https://localhost:8080/",
     "height": 352
    },
    "executionInfo": {
     "elapsed": 44,
     "status": "ok",
     "timestamp": 1636300488880,
     "user": {
      "displayName": "Kamalaksha Nc",
      "photoUrl": "https://lh3.googleusercontent.com/a-/AOh14Gjxg6EmzK8ORLJZD8DHsJ-32YRw9tE3tAvDYH0K=s64",
      "userId": "05305898749409546367"
     },
     "user_tz": -330
    },
    "id": "wMdWmLXhOoJ3",
    "outputId": "96f2b6a0-a87c-45a0-8230-5cb84a32f40a"
   },
   "outputs": [
    {
     "name": "stderr",
     "output_type": "stream",
     "text": [
      "/usr/local/lib/python3.7/dist-packages/seaborn/_decorators.py:43: FutureWarning: Pass the following variable as a keyword arg: x. From version 0.12, the only valid positional argument will be `data`, and passing other arguments without an explicit keyword will result in an error or misinterpretation.\n",
      "  FutureWarning\n"
     ]
    },
    {
     "data": {
      "text/plain": [
       "<matplotlib.axes._subplots.AxesSubplot at 0x7f751091de90>"
      ]
     },
     "execution_count": 35,
     "metadata": {},
     "output_type": "execute_result"
    },
    {
     "data": {
      "image/png": "[encoded data removed]",
      "text/plain": [
       "<Figure size 432x288 with 1 Axes>"
      ]
     },
     "metadata": {
      "needs_background": "light"
     },
     "output_type": "display_data"
    }
   ],
   "source": [
    "sns.boxplot(train['Item_MRP'])"
   ]
  },
  {
   "cell_type": "code",
   "execution_count": 36,
   "metadata": {
    "colab": {
     "base_uri": "https://localhost:8080/",
     "height": 229
    },
    "executionInfo": {
     "elapsed": 40,
     "status": "ok",
     "timestamp": 1636300488881,
     "user": {
      "displayName": "Kamalaksha Nc",
      "photoUrl": "https://lh3.googleusercontent.com/a-/AOh14Gjxg6EmzK8ORLJZD8DHsJ-32YRw9tE3tAvDYH0K=s64",
      "userId": "05305898749409546367"
     },
     "user_tz": -330
    },
    "id": "cAITefd6Js2j",
    "outputId": "a09d0424-9287-4a13-d444-0d4ec9d1444e"
   },
   "outputs": [
    {
     "data": {
      "text/html": [
       "<div>\n",
       "<style scoped>\n",
       "    .dataframe tbody tr th:only-of-type {\n",
       "        vertical-align: middle;\n",
       "    }\n",
       "\n",
       "    .dataframe tbody tr th {\n",
       "        vertical-align: top;\n",
       "    }\n",
       "\n",
       "    .dataframe thead th {\n",
       "        text-align: right;\n",
       "    }\n",
       "</style>\n",
       "<table border=\"1\" class=\"dataframe\">\n",
       "  <thead>\n",
       "    <tr style=\"text-align: right;\">\n",
       "      <th></th>\n",
       "      <th>Item_Identifier</th>\n",
       "      <th>Item_Weight</th>\n",
       "      <th>Item_Fat_Content</th>\n",
       "      <th>Item_Visibility</th>\n",
       "      <th>Item_MRP</th>\n",
       "      <th>Outlet_Identifier</th>\n",
       "      <th>Outlet_Establishment_Year</th>\n",
       "      <th>Outlet_Location_Type</th>\n",
       "      <th>Outlet_Type</th>\n",
       "      <th>Item_Outlet_Sales</th>\n",
       "      <th>Random_Outlet_Size</th>\n",
       "      <th>Breads</th>\n",
       "      <th>Breakfast</th>\n",
       "      <th>Canned</th>\n",
       "      <th>Dairy</th>\n",
       "      <th>Frozen Foods</th>\n",
       "      <th>Fruits and Vegetables</th>\n",
       "      <th>Hard Drinks</th>\n",
       "      <th>Health and Hygiene</th>\n",
       "      <th>Household</th>\n",
       "      <th>Meat</th>\n",
       "      <th>Others</th>\n",
       "      <th>Seafood</th>\n",
       "      <th>Snack Foods</th>\n",
       "      <th>Soft Drinks</th>\n",
       "      <th>Starchy Foods</th>\n",
       "    </tr>\n",
       "  </thead>\n",
       "  <tbody>\n",
       "    <tr>\n",
       "      <th>0</th>\n",
       "      <td>FDA15</td>\n",
       "      <td>9.30</td>\n",
       "      <td>0</td>\n",
       "      <td>0.016047</td>\n",
       "      <td>249.8092</td>\n",
       "      <td>OUT049</td>\n",
       "      <td>1999</td>\n",
       "      <td>0</td>\n",
       "      <td>1</td>\n",
       "      <td>3735.1380</td>\n",
       "      <td>1</td>\n",
       "      <td>0</td>\n",
       "      <td>0</td>\n",
       "      <td>0</td>\n",
       "      <td>1</td>\n",
       "      <td>0</td>\n",
       "      <td>0</td>\n",
       "      <td>0</td>\n",
       "      <td>0</td>\n",
       "      <td>0</td>\n",
       "      <td>0</td>\n",
       "      <td>0</td>\n",
       "      <td>0</td>\n",
       "      <td>0</td>\n",
       "      <td>0</td>\n",
       "      <td>0</td>\n",
       "    </tr>\n",
       "    <tr>\n",
       "      <th>1</th>\n",
       "      <td>DRC01</td>\n",
       "      <td>5.92</td>\n",
       "      <td>1</td>\n",
       "      <td>0.019278</td>\n",
       "      <td>48.2692</td>\n",
       "      <td>OUT018</td>\n",
       "      <td>2009</td>\n",
       "      <td>2</td>\n",
       "      <td>2</td>\n",
       "      <td>443.4228</td>\n",
       "      <td>1</td>\n",
       "      <td>0</td>\n",
       "      <td>0</td>\n",
       "      <td>0</td>\n",
       "      <td>0</td>\n",
       "      <td>0</td>\n",
       "      <td>0</td>\n",
       "      <td>0</td>\n",
       "      <td>0</td>\n",
       "      <td>0</td>\n",
       "      <td>0</td>\n",
       "      <td>0</td>\n",
       "      <td>0</td>\n",
       "      <td>0</td>\n",
       "      <td>1</td>\n",
       "      <td>0</td>\n",
       "    </tr>\n",
       "    <tr>\n",
       "      <th>2</th>\n",
       "      <td>FDN15</td>\n",
       "      <td>17.50</td>\n",
       "      <td>0</td>\n",
       "      <td>0.016760</td>\n",
       "      <td>141.6180</td>\n",
       "      <td>OUT049</td>\n",
       "      <td>1999</td>\n",
       "      <td>0</td>\n",
       "      <td>1</td>\n",
       "      <td>2097.2700</td>\n",
       "      <td>1</td>\n",
       "      <td>0</td>\n",
       "      <td>0</td>\n",
       "      <td>0</td>\n",
       "      <td>0</td>\n",
       "      <td>0</td>\n",
       "      <td>0</td>\n",
       "      <td>0</td>\n",
       "      <td>0</td>\n",
       "      <td>0</td>\n",
       "      <td>1</td>\n",
       "      <td>0</td>\n",
       "      <td>0</td>\n",
       "      <td>0</td>\n",
       "      <td>0</td>\n",
       "      <td>0</td>\n",
       "    </tr>\n",
       "    <tr>\n",
       "      <th>3</th>\n",
       "      <td>FDX07</td>\n",
       "      <td>19.20</td>\n",
       "      <td>1</td>\n",
       "      <td>0.000000</td>\n",
       "      <td>182.0950</td>\n",
       "      <td>OUT010</td>\n",
       "      <td>1998</td>\n",
       "      <td>2</td>\n",
       "      <td>0</td>\n",
       "      <td>732.3800</td>\n",
       "      <td>2</td>\n",
       "      <td>0</td>\n",
       "      <td>0</td>\n",
       "      <td>0</td>\n",
       "      <td>0</td>\n",
       "      <td>0</td>\n",
       "      <td>1</td>\n",
       "      <td>0</td>\n",
       "      <td>0</td>\n",
       "      <td>0</td>\n",
       "      <td>0</td>\n",
       "      <td>0</td>\n",
       "      <td>0</td>\n",
       "      <td>0</td>\n",
       "      <td>0</td>\n",
       "      <td>0</td>\n",
       "    </tr>\n",
       "  </tbody>\n",
       "</table>\n",
       "</div>"
      ],
      "text/plain": [
       "  Item_Identifier  Item_Weight  ...  Soft Drinks  Starchy Foods\n",
       "0           FDA15         9.30  ...            0              0\n",
       "1           DRC01         5.92  ...            1              0\n",
       "2           FDN15        17.50  ...            0              0\n",
       "3           FDX07        19.20  ...            0              0\n",
       "\n",
       "[4 rows x 26 columns]"
      ]
     },
     "execution_count": 36,
     "metadata": {},
     "output_type": "execute_result"
    }
   ],
   "source": [
    "train.head(4)"
   ]
  },
  {
   "cell_type": "markdown",
   "metadata": {
    "id": "MsfB0vsPqJdw"
   },
   "source": [
    "## 2.Feature Selection"
   ]
  },
  {
   "cell_type": "code",
   "execution_count": 37,
   "metadata": {
    "executionInfo": {
     "elapsed": 39,
     "status": "ok",
     "timestamp": 1636300488881,
     "user": {
      "displayName": "Kamalaksha Nc",
      "photoUrl": "https://lh3.googleusercontent.com/a-/AOh14Gjxg6EmzK8ORLJZD8DHsJ-32YRw9tE3tAvDYH0K=s64",
      "userId": "05305898749409546367"
     },
     "user_tz": -330
    },
    "id": "AHjeeU8qqHK0"
   },
   "outputs": [],
   "source": [
    "#we will remove Item_Identifier,Outlet_Identifier,Outlet_Establishment_Year because these features are not needed to predict the sales\n",
    "train.drop(['Item_Identifier','Outlet_Identifier','Outlet_Establishment_Year'],axis=1,inplace=True)"
   ]
  },
  {
   "cell_type": "code",
   "execution_count": 38,
   "metadata": {
    "colab": {
     "base_uri": "https://localhost:8080/",
     "height": 261
    },
    "executionInfo": {
     "elapsed": 38,
     "status": "ok",
     "timestamp": 1636300488882,
     "user": {
      "displayName": "Kamalaksha Nc",
      "photoUrl": "https://lh3.googleusercontent.com/a-/AOh14Gjxg6EmzK8ORLJZD8DHsJ-32YRw9tE3tAvDYH0K=s64",
      "userId": "05305898749409546367"
     },
     "user_tz": -330
    },
    "id": "yJl7-lnprrmO",
    "outputId": "b4e00173-9a35-4aa6-a619-b3a2170e3803"
   },
   "outputs": [
    {
     "data": {
      "text/html": [
       "<div>\n",
       "<style scoped>\n",
       "    .dataframe tbody tr th:only-of-type {\n",
       "        vertical-align: middle;\n",
       "    }\n",
       "\n",
       "    .dataframe tbody tr th {\n",
       "        vertical-align: top;\n",
       "    }\n",
       "\n",
       "    .dataframe thead th {\n",
       "        text-align: right;\n",
       "    }\n",
       "</style>\n",
       "<table border=\"1\" class=\"dataframe\">\n",
       "  <thead>\n",
       "    <tr style=\"text-align: right;\">\n",
       "      <th></th>\n",
       "      <th>Item_Weight</th>\n",
       "      <th>Item_Fat_Content</th>\n",
       "      <th>Item_Visibility</th>\n",
       "      <th>Item_MRP</th>\n",
       "      <th>Outlet_Location_Type</th>\n",
       "      <th>Outlet_Type</th>\n",
       "      <th>Item_Outlet_Sales</th>\n",
       "      <th>Random_Outlet_Size</th>\n",
       "      <th>Breads</th>\n",
       "      <th>Breakfast</th>\n",
       "      <th>Canned</th>\n",
       "      <th>Dairy</th>\n",
       "      <th>Frozen Foods</th>\n",
       "      <th>Fruits and Vegetables</th>\n",
       "      <th>Hard Drinks</th>\n",
       "      <th>Health and Hygiene</th>\n",
       "      <th>Household</th>\n",
       "      <th>Meat</th>\n",
       "      <th>Others</th>\n",
       "      <th>Seafood</th>\n",
       "      <th>Snack Foods</th>\n",
       "      <th>Soft Drinks</th>\n",
       "      <th>Starchy Foods</th>\n",
       "    </tr>\n",
       "  </thead>\n",
       "  <tbody>\n",
       "    <tr>\n",
       "      <th>0</th>\n",
       "      <td>9.30</td>\n",
       "      <td>0</td>\n",
       "      <td>0.016047</td>\n",
       "      <td>249.8092</td>\n",
       "      <td>0</td>\n",
       "      <td>1</td>\n",
       "      <td>3735.1380</td>\n",
       "      <td>1</td>\n",
       "      <td>0</td>\n",
       "      <td>0</td>\n",
       "      <td>0</td>\n",
       "      <td>1</td>\n",
       "      <td>0</td>\n",
       "      <td>0</td>\n",
       "      <td>0</td>\n",
       "      <td>0</td>\n",
       "      <td>0</td>\n",
       "      <td>0</td>\n",
       "      <td>0</td>\n",
       "      <td>0</td>\n",
       "      <td>0</td>\n",
       "      <td>0</td>\n",
       "      <td>0</td>\n",
       "    </tr>\n",
       "    <tr>\n",
       "      <th>1</th>\n",
       "      <td>5.92</td>\n",
       "      <td>1</td>\n",
       "      <td>0.019278</td>\n",
       "      <td>48.2692</td>\n",
       "      <td>2</td>\n",
       "      <td>2</td>\n",
       "      <td>443.4228</td>\n",
       "      <td>1</td>\n",
       "      <td>0</td>\n",
       "      <td>0</td>\n",
       "      <td>0</td>\n",
       "      <td>0</td>\n",
       "      <td>0</td>\n",
       "      <td>0</td>\n",
       "      <td>0</td>\n",
       "      <td>0</td>\n",
       "      <td>0</td>\n",
       "      <td>0</td>\n",
       "      <td>0</td>\n",
       "      <td>0</td>\n",
       "      <td>0</td>\n",
       "      <td>1</td>\n",
       "      <td>0</td>\n",
       "    </tr>\n",
       "    <tr>\n",
       "      <th>2</th>\n",
       "      <td>17.50</td>\n",
       "      <td>0</td>\n",
       "      <td>0.016760</td>\n",
       "      <td>141.6180</td>\n",
       "      <td>0</td>\n",
       "      <td>1</td>\n",
       "      <td>2097.2700</td>\n",
       "      <td>1</td>\n",
       "      <td>0</td>\n",
       "      <td>0</td>\n",
       "      <td>0</td>\n",
       "      <td>0</td>\n",
       "      <td>0</td>\n",
       "      <td>0</td>\n",
       "      <td>0</td>\n",
       "      <td>0</td>\n",
       "      <td>0</td>\n",
       "      <td>1</td>\n",
       "      <td>0</td>\n",
       "      <td>0</td>\n",
       "      <td>0</td>\n",
       "      <td>0</td>\n",
       "      <td>0</td>\n",
       "    </tr>\n",
       "    <tr>\n",
       "      <th>3</th>\n",
       "      <td>19.20</td>\n",
       "      <td>1</td>\n",
       "      <td>0.000000</td>\n",
       "      <td>182.0950</td>\n",
       "      <td>2</td>\n",
       "      <td>0</td>\n",
       "      <td>732.3800</td>\n",
       "      <td>2</td>\n",
       "      <td>0</td>\n",
       "      <td>0</td>\n",
       "      <td>0</td>\n",
       "      <td>0</td>\n",
       "      <td>0</td>\n",
       "      <td>1</td>\n",
       "      <td>0</td>\n",
       "      <td>0</td>\n",
       "      <td>0</td>\n",
       "      <td>0</td>\n",
       "      <td>0</td>\n",
       "      <td>0</td>\n",
       "      <td>0</td>\n",
       "      <td>0</td>\n",
       "      <td>0</td>\n",
       "    </tr>\n",
       "    <tr>\n",
       "      <th>4</th>\n",
       "      <td>8.93</td>\n",
       "      <td>0</td>\n",
       "      <td>0.000000</td>\n",
       "      <td>53.8614</td>\n",
       "      <td>2</td>\n",
       "      <td>1</td>\n",
       "      <td>994.7052</td>\n",
       "      <td>0</td>\n",
       "      <td>0</td>\n",
       "      <td>0</td>\n",
       "      <td>0</td>\n",
       "      <td>0</td>\n",
       "      <td>0</td>\n",
       "      <td>0</td>\n",
       "      <td>0</td>\n",
       "      <td>0</td>\n",
       "      <td>1</td>\n",
       "      <td>0</td>\n",
       "      <td>0</td>\n",
       "      <td>0</td>\n",
       "      <td>0</td>\n",
       "      <td>0</td>\n",
       "      <td>0</td>\n",
       "    </tr>\n",
       "  </tbody>\n",
       "</table>\n",
       "</div>"
      ],
      "text/plain": [
       "   Item_Weight  Item_Fat_Content  ...  Soft Drinks  Starchy Foods\n",
       "0         9.30                 0  ...            0              0\n",
       "1         5.92                 1  ...            1              0\n",
       "2        17.50                 0  ...            0              0\n",
       "3        19.20                 1  ...            0              0\n",
       "4         8.93                 0  ...            0              0\n",
       "\n",
       "[5 rows x 23 columns]"
      ]
     },
     "execution_count": 38,
     "metadata": {},
     "output_type": "execute_result"
    }
   ],
   "source": [
    "train.head()"
   ]
  },
  {
   "cell_type": "markdown",
   "metadata": {
    "id": "t1wP91LDBSLc"
   },
   "source": [
    "Splitting the train data"
   ]
  },
  {
   "cell_type": "code",
   "execution_count": 39,
   "metadata": {
    "executionInfo": {
     "elapsed": 38,
     "status": "ok",
     "timestamp": 1636300488883,
     "user": {
      "displayName": "Kamalaksha Nc",
      "photoUrl": "https://lh3.googleusercontent.com/a-/AOh14Gjxg6EmzK8ORLJZD8DHsJ-32YRw9tE3tAvDYH0K=s64",
      "userId": "05305898749409546367"
     },
     "user_tz": -330
    },
    "id": "rmo5WBAVCMYT"
   },
   "outputs": [],
   "source": [
    "x = train.drop('Item_Outlet_Sales',axis=1)\n",
    "y = train['Item_Outlet_Sales']"
   ]
  },
  {
   "cell_type": "code",
   "execution_count": 40,
   "metadata": {
    "executionInfo": {
     "elapsed": 743,
     "status": "ok",
     "timestamp": 1636300489589,
     "user": {
      "displayName": "Kamalaksha Nc",
      "photoUrl": "https://lh3.googleusercontent.com/a-/AOh14Gjxg6EmzK8ORLJZD8DHsJ-32YRw9tE3tAvDYH0K=s64",
      "userId": "05305898749409546367"
     },
     "user_tz": -330
    },
    "id": "HTEcDtqzBSlu"
   },
   "outputs": [],
   "source": [
    "from sklearn.model_selection import train_test_split\n",
    "xtrain,xtest,ytrain,ytest = train_test_split(x,y,test_size=0.2,random_state = 0)"
   ]
  },
  {
   "cell_type": "markdown",
   "metadata": {
    "id": "5HlhYMKE5i1w"
   },
   "source": [
    "Preprocessing"
   ]
  },
  {
   "cell_type": "code",
   "execution_count": 41,
   "metadata": {
    "executionInfo": {
     "elapsed": 22,
     "status": "ok",
     "timestamp": 1636300489591,
     "user": {
      "displayName": "Kamalaksha Nc",
      "photoUrl": "https://lh3.googleusercontent.com/a-/AOh14Gjxg6EmzK8ORLJZD8DHsJ-32YRw9tE3tAvDYH0K=s64",
      "userId": "05305898749409546367"
     },
     "user_tz": -330
    },
    "id": "GmK-WE8q5iaj"
   },
   "outputs": [],
   "source": [
    "from sklearn.preprocessing import StandardScaler\n",
    "\n",
    "scaler = StandardScaler()\n",
    "\n",
    "xtrain = scaler.fit_transform(xtrain)\n",
    "xtest = scaler.transform(xtest)"
   ]
  },
  {
   "cell_type": "code",
   "execution_count": 41,
   "metadata": {
    "executionInfo": {
     "elapsed": 25,
     "status": "ok",
     "timestamp": 1636300489596,
     "user": {
      "displayName": "Kamalaksha Nc",
      "photoUrl": "https://lh3.googleusercontent.com/a-/AOh14Gjxg6EmzK8ORLJZD8DHsJ-32YRw9tE3tAvDYH0K=s64",
      "userId": "05305898749409546367"
     },
     "user_tz": -330
    },
    "id": "R5CgK7Og5iXB"
   },
   "outputs": [],
   "source": []
  },
  {
   "cell_type": "code",
   "execution_count": 162,
   "metadata": {
    "executionInfo": {
     "elapsed": 20,
     "status": "ok",
     "timestamp": 1636274240609,
     "user": {
      "displayName": "Kamalaksha Nc",
      "photoUrl": "https://lh3.googleusercontent.com/a-/AOh14Gjxg6EmzK8ORLJZD8DHsJ-32YRw9tE3tAvDYH0K=s64",
      "userId": "05305898749409546367"
     },
     "user_tz": -330
    },
    "id": "3lDtgCUQ5iUF"
   },
   "outputs": [],
   "source": []
  },
  {
   "cell_type": "markdown",
   "metadata": {
    "id": "4NxzQAnEvjl5"
   },
   "source": [
    "## 3. Model Creation"
   ]
  },
  {
   "cell_type": "markdown",
   "metadata": {
    "id": "fG3hypI3YmGb"
   },
   "source": [
    "Ensemble Technique"
   ]
  },
  {
   "cell_type": "code",
   "execution_count": 175,
   "metadata": {
    "colab": {
     "base_uri": "https://localhost:8080/"
    },
    "executionInfo": {
     "elapsed": 4365,
     "status": "ok",
     "timestamp": 1636274300013,
     "user": {
      "displayName": "Kamalaksha Nc",
      "photoUrl": "https://lh3.googleusercontent.com/a-/AOh14Gjxg6EmzK8ORLJZD8DHsJ-32YRw9tE3tAvDYH0K=s64",
      "userId": "05305898749409546367"
     },
     "user_tz": -330
    },
    "id": "_jII6bFn87DU",
    "outputId": "1e0ffdae-1857-403f-b34e-a7536ca1eac2"
   },
   "outputs": [
    {
     "data": {
      "text/plain": [
       "0.5481763474547852"
      ]
     },
     "execution_count": 175,
     "metadata": {},
     "output_type": "execute_result"
    }
   ],
   "source": [
    "from sklearn.ensemble import RandomForestRegressor\n",
    "model = RandomForestRegressor()\n",
    "model.fit(xtrain,ytrain)\n",
    "rypred = model.predict(xtest)\n",
    "r2_score(ytest,rypred)"
   ]
  },
  {
   "cell_type": "code",
   "execution_count": 43,
   "metadata": {
    "executionInfo": {
     "elapsed": 487,
     "status": "ok",
     "timestamp": 1636300826510,
     "user": {
      "displayName": "Kamalaksha Nc",
      "photoUrl": "https://lh3.googleusercontent.com/a-/AOh14Gjxg6EmzK8ORLJZD8DHsJ-32YRw9tE3tAvDYH0K=s64",
      "userId": "05305898749409546367"
     },
     "user_tz": -330
    },
    "id": "n3jlfpsAhqHX"
   },
   "outputs": [],
   "source": [
    "#Hyperparamter tunning on randomforest\n",
    "from sklearn.model_selection import RandomizedSearchCV"
   ]
  },
  {
   "cell_type": "code",
   "execution_count": 177,
   "metadata": {
    "colab": {
     "base_uri": "https://localhost:8080/"
    },
    "executionInfo": {
     "elapsed": 440188,
     "status": "ok",
     "timestamp": 1636274740190,
     "user": {
      "displayName": "Kamalaksha Nc",
      "photoUrl": "https://lh3.googleusercontent.com/a-/AOh14Gjxg6EmzK8ORLJZD8DHsJ-32YRw9tE3tAvDYH0K=s64",
      "userId": "05305898749409546367"
     },
     "user_tz": -330
    },
    "id": "K7AdliWribbD",
    "outputId": "d1e16874-787d-43ed-cccc-c0d9a4191068"
   },
   "outputs": [
    {
     "name": "stdout",
     "output_type": "stream",
     "text": [
      "RandomForestRegressor(bootstrap=True, ccp_alpha=0.0, criterion='mse',\n",
      "                      max_depth=None, max_features='auto', max_leaf_nodes=None,\n",
      "                      max_samples=None, min_impurity_decrease=0.0,\n",
      "                      min_impurity_split=None, min_samples_leaf=1,\n",
      "                      min_samples_split=2, min_weight_fraction_leaf=0.0,\n",
      "                      n_estimators=100, n_jobs=None, oob_score=False,\n",
      "                      random_state=None, verbose=0, warm_start=False)\n"
     ]
    },
    {
     "data": {
      "text/plain": [
       "0.5798832158990699"
      ]
     },
     "execution_count": 177,
     "metadata": {},
     "output_type": "execute_result"
    }
   ],
   "source": [
    "param_grid ={\n",
    "         'n_estimators':[i for i in range(200,2001,200)],\n",
    "         'max_depth':[int(i) for i in np.linspace(10,1000,10)],\n",
    "         'min_samples_split' : [2, 5, 10,14],\n",
    "         'min_samples_leaf' : [1, 2, 4,6,8],\n",
    "         'max_features' : ['auto', 'sqrt','log2']\n",
    "}\n",
    "best_r_model = RandomizedSearchCV(estimator=RandomForestRegressor(),param_distributions=param_grid,cv = 3)\n",
    "print(best_r_model.estimator)\n",
    "best_r_model.fit(xtrain,ytrain)\n",
    "random_ypred = best_r_model.predict(xtest)\n",
    "r2_score(ytest,random_ypred)"
   ]
  },
  {
   "cell_type": "code",
   "execution_count": 53,
   "metadata": {
    "executionInfo": {
     "elapsed": 407,
     "status": "ok",
     "timestamp": 1636301051793,
     "user": {
      "displayName": "Kamalaksha Nc",
      "photoUrl": "https://lh3.googleusercontent.com/a-/AOh14Gjxg6EmzK8ORLJZD8DHsJ-32YRw9tE3tAvDYH0K=s64",
      "userId": "05305898749409546367"
     },
     "user_tz": -330
    },
    "id": "y0zYHhQLjkgj"
   },
   "outputs": [],
   "source": [
    "from xgboost import XGBRegressor\n",
    "from sklearn.metrics import r2_score"
   ]
  },
  {
   "cell_type": "code",
   "execution_count": 179,
   "metadata": {
    "colab": {
     "base_uri": "https://localhost:8080/"
    },
    "executionInfo": {
     "elapsed": 999,
     "status": "ok",
     "timestamp": 1636274741172,
     "user": {
      "displayName": "Kamalaksha Nc",
      "photoUrl": "https://lh3.googleusercontent.com/a-/AOh14Gjxg6EmzK8ORLJZD8DHsJ-32YRw9tE3tAvDYH0K=s64",
      "userId": "05305898749409546367"
     },
     "user_tz": -330
    },
    "id": "9yjvL6qo1iEw",
    "outputId": "9e671ef3-33fb-423e-e364-8d0b0ef5c807"
   },
   "outputs": [
    {
     "name": "stdout",
     "output_type": "stream",
     "text": [
      "[08:45:39] WARNING: /workspace/src/objective/regression_obj.cu:152: reg:linear is now deprecated in favor of reg:squarederror.\n"
     ]
    },
    {
     "data": {
      "text/plain": [
       "0.6005224177229174"
      ]
     },
     "execution_count": 179,
     "metadata": {},
     "output_type": "execute_result"
    }
   ],
   "source": [
    "xgbmodel = XGBRegressor()\n",
    "\n",
    "xgbmodel.fit(xtrain,ytrain)\n",
    "xg_pred = xgbmodel.predict(xtest)\n",
    "r2_score(ytest,xg_pred)"
   ]
  },
  {
   "cell_type": "code",
   "execution_count": 49,
   "metadata": {
    "colab": {
     "base_uri": "https://localhost:8080/"
    },
    "executionInfo": {
     "elapsed": 12323,
     "status": "ok",
     "timestamp": 1636300950825,
     "user": {
      "displayName": "Kamalaksha Nc",
      "photoUrl": "https://lh3.googleusercontent.com/a-/AOh14Gjxg6EmzK8ORLJZD8DHsJ-32YRw9tE3tAvDYH0K=s64",
      "userId": "05305898749409546367"
     },
     "user_tz": -330
    },
    "id": "_lzG_SNO13eR",
    "outputId": "1e45b15e-edcd-47bd-97c2-705271a2f5cd"
   },
   "outputs": [
    {
     "name": "stdout",
     "output_type": "stream",
     "text": [
      "Fitting 5 folds for each of 5 candidates, totalling 25 fits\n"
     ]
    },
    {
     "name": "stderr",
     "output_type": "stream",
     "text": [
      "[Parallel(n_jobs=-1)]: Using backend LokyBackend with 2 concurrent workers.\n",
      "[Parallel(n_jobs=-1)]: Done  25 out of  25 | elapsed:   11.2s finished\n"
     ]
    },
    {
     "name": "stdout",
     "output_type": "stream",
     "text": [
      "[16:02:29] WARNING: /workspace/src/objective/regression_obj.cu:152: reg:linear is now deprecated in favor of reg:squarederror.\n"
     ]
    },
    {
     "data": {
      "text/plain": [
       "RandomizedSearchCV(cv=5, error_score=nan,\n",
       "                   estimator=XGBRegressor(base_score=0.5, booster='gbtree',\n",
       "                                          colsample_bylevel=1,\n",
       "                                          colsample_bynode=1,\n",
       "                                          colsample_bytree=1, gamma=0,\n",
       "                                          importance_type='gain',\n",
       "                                          learning_rate=0.1, max_delta_step=0,\n",
       "                                          max_depth=3, min_child_weight=1,\n",
       "                                          missing=None, n_estimators=100,\n",
       "                                          n_jobs=1, nthread=None,\n",
       "                                          objective='reg:linear',\n",
       "                                          random_state=0, reg_alpha=...\n",
       "                                          seed=None, silent=None, subsample=1,\n",
       "                                          verbosity=1),\n",
       "                   iid='deprecated', n_iter=5, n_jobs=-1,\n",
       "                   param_distributions={'colsample_bytree': [0.3, 0.4, 0.5,\n",
       "                                                             0.7],\n",
       "                                        'gamma': [0.0, 0.1, 0.2, 0.3, 0.4],\n",
       "                                        'learning_rate': [0.05, 0.1, 0.15, 0.2,\n",
       "                                                          0.25, 0.3],\n",
       "                                        'max_depth': [3, 4, 5, 6, 8, 10, 12,\n",
       "                                                      15],\n",
       "                                        'min_child_weight': [1, 3, 5, 7]},\n",
       "                   pre_dispatch='2*n_jobs', random_state=None, refit=True,\n",
       "                   return_train_score=False, scoring=None, verbose=3)"
      ]
     },
     "execution_count": 49,
     "metadata": {},
     "output_type": "execute_result"
    }
   ],
   "source": [
    "#Hyperparameter tunning on XgBootRegressor\n",
    "xgbmodel = XGBRegressor()\n",
    "params={\n",
    " \"learning_rate\"    : [0.05, 0.10, 0.15, 0.20, 0.25, 0.30 ] ,\n",
    " \"max_depth\"        : [ 3, 4, 5, 6, 8, 10, 12, 15],\n",
    " \"min_child_weight\" : [ 1, 3, 5, 7 ],\n",
    " \"gamma\"            : [ 0.0, 0.1, 0.2 , 0.3, 0.4 ],\n",
    " \"colsample_bytree\" : [ 0.3, 0.4, 0.5 , 0.7 ]\n",
    "    \n",
    "}\n",
    "hxgbmodel = RandomizedSearchCV(xgbmodel,param_distributions=params,n_iter=5,n_jobs=-1,cv=5,verbose=3)\n",
    "hxgbmodel.fit(xtrain,ytrain)"
   ]
  },
  {
   "cell_type": "code",
   "execution_count": 50,
   "metadata": {
    "colab": {
     "base_uri": "https://localhost:8080/"
    },
    "executionInfo": {
     "elapsed": 9,
     "status": "ok",
     "timestamp": 1636300969984,
     "user": {
      "displayName": "Kamalaksha Nc",
      "photoUrl": "https://lh3.googleusercontent.com/a-/AOh14Gjxg6EmzK8ORLJZD8DHsJ-32YRw9tE3tAvDYH0K=s64",
      "userId": "05305898749409546367"
     },
     "user_tz": -330
    },
    "id": "0rBv3AbsIQYM",
    "outputId": "b7183b9a-227a-4e9e-dfeb-0f2932979769"
   },
   "outputs": [
    {
     "data": {
      "text/plain": [
       "XGBRegressor(base_score=0.5, booster='gbtree', colsample_bylevel=1,\n",
       "             colsample_bynode=1, colsample_bytree=0.5, gamma=0.3,\n",
       "             importance_type='gain', learning_rate=0.1, max_delta_step=0,\n",
       "             max_depth=5, min_child_weight=1, missing=None, n_estimators=100,\n",
       "             n_jobs=1, nthread=None, objective='reg:linear', random_state=0,\n",
       "             reg_alpha=0, reg_lambda=1, scale_pos_weight=1, seed=None,\n",
       "             silent=None, subsample=1, verbosity=1)"
      ]
     },
     "execution_count": 50,
     "metadata": {},
     "output_type": "execute_result"
    }
   ],
   "source": [
    "hxgbmodel.best_estimator_"
   ]
  },
  {
   "cell_type": "code",
   "execution_count": 51,
   "metadata": {
    "colab": {
     "base_uri": "https://localhost:8080/"
    },
    "executionInfo": {
     "elapsed": 513,
     "status": "ok",
     "timestamp": 1636300981961,
     "user": {
      "displayName": "Kamalaksha Nc",
      "photoUrl": "https://lh3.googleusercontent.com/a-/AOh14Gjxg6EmzK8ORLJZD8DHsJ-32YRw9tE3tAvDYH0K=s64",
      "userId": "05305898749409546367"
     },
     "user_tz": -330
    },
    "id": "zYg8VZ4WI1Ux",
    "outputId": "2d5bf412-b80f-4722-dbe2-123313eadf7d"
   },
   "outputs": [
    {
     "data": {
      "text/plain": [
       "0.5755080804663288"
      ]
     },
     "execution_count": 51,
     "metadata": {},
     "output_type": "execute_result"
    }
   ],
   "source": [
    "hxgbmodel.best_score_"
   ]
  },
  {
   "cell_type": "code",
   "execution_count": 54,
   "metadata": {
    "colab": {
     "base_uri": "https://localhost:8080/"
    },
    "executionInfo": {
     "elapsed": 415,
     "status": "ok",
     "timestamp": 1636301057225,
     "user": {
      "displayName": "Kamalaksha Nc",
      "photoUrl": "https://lh3.googleusercontent.com/a-/AOh14Gjxg6EmzK8ORLJZD8DHsJ-32YRw9tE3tAvDYH0K=s64",
      "userId": "05305898749409546367"
     },
     "user_tz": -330
    },
    "id": "OVRTKMK_I4IQ",
    "outputId": "3fd12867-89fc-4fc5-e14b-344b0df5420c"
   },
   "outputs": [
    {
     "data": {
      "text/plain": [
       "0.5915172952076285"
      ]
     },
     "execution_count": 54,
     "metadata": {},
     "output_type": "execute_result"
    }
   ],
   "source": [
    "hypred = hxgbmodel.predict(xtest)\n",
    "r2_score(ytest,hypred)"
   ]
  },
  {
   "cell_type": "code",
   "execution_count": null,
   "metadata": {
    "id": "SFbncbU4JBPy"
   },
   "outputs": [],
   "source": []
  }
 ],
 "metadata": {
  "accelerator": "GPU",
  "colab": {
   "collapsed_sections": [],
   "machine_shape": "hm",
   "name": "MainBigMartPrediction.ipynb",
   "provenance": [
    {
     "file_id": "1GqZu6zmCy2vMNMZqO78DDuHvwv_9vJcp",
     "timestamp": 1610371854392
    },
    {
     "file_id": "1IzPbxNFQmmSYk9s14L4YjBfUgACn9mW2",
     "timestamp": 1593978024316
    },
    {
     "file_id": "1G7NKeneJNyRtcRxLVbbF9jYtRyuTOa-R",
     "timestamp": 1592749700622
    },
    {
     "file_id": "https://github.com/satyajitghana/TSAI-DeepVision-EVA4.0/blob/master/Utils/Colab_25GBRAM_GPU.ipynb",
     "timestamp": 1592043804148
    }
   ]
  },
  "kernelspec": {
   "display_name": "Python 3 (ipykernel)",
   "language": "python",
   "name": "python3"
  },
  "language_info": {
   "codemirror_mode": {
    "name": "ipython",
    "version": 3
   },
   "file_extension": ".py",
   "mimetype": "text/x-python",
   "name": "python",
   "nbconvert_exporter": "python",
   "pygments_lexer": "ipython3",
   "version": "3.9.7"
  }
 },
 "nbformat": 4,
 "nbformat_minor": 1
}
